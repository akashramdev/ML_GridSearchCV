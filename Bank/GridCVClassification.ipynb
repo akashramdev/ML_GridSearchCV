{
 "cells": [
  {
   "cell_type": "code",
   "execution_count": 2,
   "id": "62666885",
   "metadata": {},
   "outputs": [],
   "source": [
    "import pandas as pd\n",
    "import numpy as np\n",
    "import matplotlib.pyplot as plt\n",
    "%matplotlib inline\n",
    "from IPython.display import display\n",
    "pd.options.display.max_columns = None\n",
    "from sklearn.linear_model import LogisticRegression\n",
    "from sklearn.ensemble import RandomForestClassifier\n",
    "from sklearn.ensemble import GradientBoostingClassifier\n",
    "from sklearn import metrics\n",
    "from sklearn.preprocessing import MinMaxScaler, StandardScaler, LabelEncoder\n",
    "from sklearn.pipeline import Pipeline\n",
    "from sklearn.model_selection import train_test_split, GridSearchCV, RandomizedSearchCV\n",
    "from sklearn.naive_bayes import GaussianNB\n",
    "from sklearn.tree import DecisionTreeClassifier\n",
    "from sklearn.neighbors import KNeighborsClassifier"
   ]
  },
  {
   "cell_type": "code",
   "execution_count": 4,
   "id": "82d86bd5",
   "metadata": {},
   "outputs": [],
   "source": [
    "df = pd.read_excel('bank data.xlsx')"
   ]
  },
  {
   "cell_type": "code",
   "execution_count": 28,
   "id": "e42d9599",
   "metadata": {},
   "outputs": [
    {
     "data": {
      "text/html": [
       "<div>\n",
       "<style scoped>\n",
       "    .dataframe tbody tr th:only-of-type {\n",
       "        vertical-align: middle;\n",
       "    }\n",
       "\n",
       "    .dataframe tbody tr th {\n",
       "        vertical-align: top;\n",
       "    }\n",
       "\n",
       "    .dataframe thead th {\n",
       "        text-align: right;\n",
       "    }\n",
       "</style>\n",
       "<table border=\"1\" class=\"dataframe\">\n",
       "  <thead>\n",
       "    <tr style=\"text-align: right;\">\n",
       "      <th></th>\n",
       "      <th>age</th>\n",
       "      <th>job</th>\n",
       "      <th>marital</th>\n",
       "      <th>education</th>\n",
       "      <th>default</th>\n",
       "      <th>housing</th>\n",
       "      <th>loan</th>\n",
       "      <th>contact</th>\n",
       "      <th>month</th>\n",
       "      <th>day_of_week</th>\n",
       "      <th>duration</th>\n",
       "      <th>campaign</th>\n",
       "      <th>pdays</th>\n",
       "      <th>previous</th>\n",
       "      <th>poutcome</th>\n",
       "      <th>emp_var_rate</th>\n",
       "      <th>cons_price_idx</th>\n",
       "      <th>cons_conf_idx</th>\n",
       "      <th>euribor3m</th>\n",
       "      <th>nr_employed</th>\n",
       "      <th>y</th>\n",
       "    </tr>\n",
       "  </thead>\n",
       "  <tbody>\n",
       "    <tr>\n",
       "      <th>0</th>\n",
       "      <td>44</td>\n",
       "      <td>blue-collar</td>\n",
       "      <td>married</td>\n",
       "      <td>basic.4y</td>\n",
       "      <td>unknown</td>\n",
       "      <td>yes</td>\n",
       "      <td>no</td>\n",
       "      <td>cellular</td>\n",
       "      <td>aug</td>\n",
       "      <td>thu</td>\n",
       "      <td>210</td>\n",
       "      <td>1</td>\n",
       "      <td>999</td>\n",
       "      <td>0</td>\n",
       "      <td>nonexistent</td>\n",
       "      <td>1.4</td>\n",
       "      <td>93.444</td>\n",
       "      <td>-36.1</td>\n",
       "      <td>4.963</td>\n",
       "      <td>5228.1</td>\n",
       "      <td>0</td>\n",
       "    </tr>\n",
       "    <tr>\n",
       "      <th>1</th>\n",
       "      <td>53</td>\n",
       "      <td>technician</td>\n",
       "      <td>married</td>\n",
       "      <td>unknown</td>\n",
       "      <td>no</td>\n",
       "      <td>no</td>\n",
       "      <td>no</td>\n",
       "      <td>cellular</td>\n",
       "      <td>nov</td>\n",
       "      <td>fri</td>\n",
       "      <td>138</td>\n",
       "      <td>1</td>\n",
       "      <td>999</td>\n",
       "      <td>0</td>\n",
       "      <td>nonexistent</td>\n",
       "      <td>-0.1</td>\n",
       "      <td>93.200</td>\n",
       "      <td>-42.0</td>\n",
       "      <td>4.021</td>\n",
       "      <td>5195.8</td>\n",
       "      <td>0</td>\n",
       "    </tr>\n",
       "    <tr>\n",
       "      <th>2</th>\n",
       "      <td>28</td>\n",
       "      <td>management</td>\n",
       "      <td>single</td>\n",
       "      <td>university.degree</td>\n",
       "      <td>no</td>\n",
       "      <td>yes</td>\n",
       "      <td>no</td>\n",
       "      <td>cellular</td>\n",
       "      <td>jun</td>\n",
       "      <td>thu</td>\n",
       "      <td>339</td>\n",
       "      <td>3</td>\n",
       "      <td>6</td>\n",
       "      <td>2</td>\n",
       "      <td>success</td>\n",
       "      <td>-1.7</td>\n",
       "      <td>94.055</td>\n",
       "      <td>-39.8</td>\n",
       "      <td>0.729</td>\n",
       "      <td>4991.6</td>\n",
       "      <td>1</td>\n",
       "    </tr>\n",
       "    <tr>\n",
       "      <th>3</th>\n",
       "      <td>39</td>\n",
       "      <td>services</td>\n",
       "      <td>married</td>\n",
       "      <td>high.school</td>\n",
       "      <td>no</td>\n",
       "      <td>no</td>\n",
       "      <td>no</td>\n",
       "      <td>cellular</td>\n",
       "      <td>apr</td>\n",
       "      <td>fri</td>\n",
       "      <td>185</td>\n",
       "      <td>2</td>\n",
       "      <td>999</td>\n",
       "      <td>0</td>\n",
       "      <td>nonexistent</td>\n",
       "      <td>-1.8</td>\n",
       "      <td>93.075</td>\n",
       "      <td>-47.1</td>\n",
       "      <td>1.405</td>\n",
       "      <td>5099.1</td>\n",
       "      <td>0</td>\n",
       "    </tr>\n",
       "    <tr>\n",
       "      <th>4</th>\n",
       "      <td>55</td>\n",
       "      <td>retired</td>\n",
       "      <td>married</td>\n",
       "      <td>basic.4y</td>\n",
       "      <td>no</td>\n",
       "      <td>yes</td>\n",
       "      <td>no</td>\n",
       "      <td>cellular</td>\n",
       "      <td>aug</td>\n",
       "      <td>fri</td>\n",
       "      <td>137</td>\n",
       "      <td>1</td>\n",
       "      <td>3</td>\n",
       "      <td>1</td>\n",
       "      <td>success</td>\n",
       "      <td>-2.9</td>\n",
       "      <td>92.201</td>\n",
       "      <td>-31.4</td>\n",
       "      <td>0.869</td>\n",
       "      <td>5076.2</td>\n",
       "      <td>1</td>\n",
       "    </tr>\n",
       "  </tbody>\n",
       "</table>\n",
       "</div>"
      ],
      "text/plain": [
       "   age          job  marital          education  default housing loan  \\\n",
       "0   44  blue-collar  married           basic.4y  unknown     yes   no   \n",
       "1   53   technician  married            unknown       no      no   no   \n",
       "2   28   management   single  university.degree       no     yes   no   \n",
       "3   39     services  married        high.school       no      no   no   \n",
       "4   55      retired  married           basic.4y       no     yes   no   \n",
       "\n",
       "    contact month day_of_week  duration  campaign  pdays  previous  \\\n",
       "0  cellular   aug         thu       210         1    999         0   \n",
       "1  cellular   nov         fri       138         1    999         0   \n",
       "2  cellular   jun         thu       339         3      6         2   \n",
       "3  cellular   apr         fri       185         2    999         0   \n",
       "4  cellular   aug         fri       137         1      3         1   \n",
       "\n",
       "      poutcome  emp_var_rate  cons_price_idx  cons_conf_idx  euribor3m  \\\n",
       "0  nonexistent           1.4          93.444          -36.1      4.963   \n",
       "1  nonexistent          -0.1          93.200          -42.0      4.021   \n",
       "2      success          -1.7          94.055          -39.8      0.729   \n",
       "3  nonexistent          -1.8          93.075          -47.1      1.405   \n",
       "4      success          -2.9          92.201          -31.4      0.869   \n",
       "\n",
       "   nr_employed  y  \n",
       "0       5228.1  0  \n",
       "1       5195.8  0  \n",
       "2       4991.6  1  \n",
       "3       5099.1  0  \n",
       "4       5076.2  1  "
      ]
     },
     "execution_count": 28,
     "metadata": {},
     "output_type": "execute_result"
    }
   ],
   "source": [
    "df.head()"
   ]
  },
  {
   "cell_type": "code",
   "execution_count": 29,
   "id": "1f40c3df",
   "metadata": {},
   "outputs": [
    {
     "data": {
      "text/plain": [
       "(41188, 21)"
      ]
     },
     "execution_count": 29,
     "metadata": {},
     "output_type": "execute_result"
    }
   ],
   "source": [
    "df.shape"
   ]
  },
  {
   "cell_type": "code",
   "execution_count": 30,
   "id": "941851fe",
   "metadata": {},
   "outputs": [
    {
     "name": "stdout",
     "output_type": "stream",
     "text": [
      "<class 'pandas.core.frame.DataFrame'>\n",
      "RangeIndex: 41188 entries, 0 to 41187\n",
      "Data columns (total 21 columns):\n",
      " #   Column          Non-Null Count  Dtype  \n",
      "---  ------          --------------  -----  \n",
      " 0   age             41188 non-null  int64  \n",
      " 1   job             41188 non-null  object \n",
      " 2   marital         41188 non-null  object \n",
      " 3   education       41188 non-null  object \n",
      " 4   default         41188 non-null  object \n",
      " 5   housing         41188 non-null  object \n",
      " 6   loan            41188 non-null  object \n",
      " 7   contact         41188 non-null  object \n",
      " 8   month           41188 non-null  object \n",
      " 9   day_of_week     41188 non-null  object \n",
      " 10  duration        41188 non-null  int64  \n",
      " 11  campaign        41188 non-null  int64  \n",
      " 12  pdays           41188 non-null  int64  \n",
      " 13  previous        41188 non-null  int64  \n",
      " 14  poutcome        41188 non-null  object \n",
      " 15  emp_var_rate    41188 non-null  float64\n",
      " 16  cons_price_idx  41188 non-null  float64\n",
      " 17  cons_conf_idx   41188 non-null  float64\n",
      " 18  euribor3m       41188 non-null  float64\n",
      " 19  nr_employed     41188 non-null  float64\n",
      " 20  y               41188 non-null  int64  \n",
      "dtypes: float64(5), int64(6), object(10)\n",
      "memory usage: 6.6+ MB\n"
     ]
    }
   ],
   "source": [
    "df.info()"
   ]
  },
  {
   "cell_type": "code",
   "execution_count": 31,
   "id": "2a0254f5",
   "metadata": {},
   "outputs": [
    {
     "data": {
      "text/plain": [
       "age               0\n",
       "job               0\n",
       "marital           0\n",
       "education         0\n",
       "default           0\n",
       "housing           0\n",
       "loan              0\n",
       "contact           0\n",
       "month             0\n",
       "day_of_week       0\n",
       "duration          0\n",
       "campaign          0\n",
       "pdays             0\n",
       "previous          0\n",
       "poutcome          0\n",
       "emp_var_rate      0\n",
       "cons_price_idx    0\n",
       "cons_conf_idx     0\n",
       "euribor3m         0\n",
       "nr_employed       0\n",
       "y                 0\n",
       "dtype: int64"
      ]
     },
     "execution_count": 31,
     "metadata": {},
     "output_type": "execute_result"
    }
   ],
   "source": [
    "df.isnull().sum()"
   ]
  },
  {
   "cell_type": "code",
   "execution_count": 32,
   "id": "b01517ba",
   "metadata": {},
   "outputs": [
    {
     "data": {
      "text/plain": [
       "((41188, 20), (41188,))"
      ]
     },
     "execution_count": 32,
     "metadata": {},
     "output_type": "execute_result"
    }
   ],
   "source": [
    "X_df = df.drop('y', axis=1) #data \n",
    "y = df['y'] #label\n",
    "\n",
    "X_df.shape,y.shape"
   ]
  },
  {
   "cell_type": "code",
   "execution_count": 33,
   "id": "f333513b",
   "metadata": {},
   "outputs": [
    {
     "name": "stdout",
     "output_type": "stream",
     "text": [
      "Index(['job', 'marital', 'education', 'default', 'housing', 'loan', 'contact',\n",
      "       'month', 'day_of_week', 'poutcome'],\n",
      "      dtype='object')\n"
     ]
    }
   ],
   "source": [
    "objList = X_df.select_dtypes(include = \"object\").columns #\n",
    "print (objList)"
   ]
  },
  {
   "cell_type": "code",
   "execution_count": 34,
   "id": "0c278a3b",
   "metadata": {},
   "outputs": [
    {
     "name": "stdout",
     "output_type": "stream",
     "text": [
      "<class 'pandas.core.frame.DataFrame'>\n",
      "RangeIndex: 41188 entries, 0 to 41187\n",
      "Data columns (total 20 columns):\n",
      " #   Column          Non-Null Count  Dtype  \n",
      "---  ------          --------------  -----  \n",
      " 0   age             41188 non-null  int64  \n",
      " 1   job             41188 non-null  int32  \n",
      " 2   marital         41188 non-null  int32  \n",
      " 3   education       41188 non-null  int32  \n",
      " 4   default         41188 non-null  int32  \n",
      " 5   housing         41188 non-null  int32  \n",
      " 6   loan            41188 non-null  int32  \n",
      " 7   contact         41188 non-null  int32  \n",
      " 8   month           41188 non-null  int32  \n",
      " 9   day_of_week     41188 non-null  int32  \n",
      " 10  duration        41188 non-null  int64  \n",
      " 11  campaign        41188 non-null  int64  \n",
      " 12  pdays           41188 non-null  int64  \n",
      " 13  previous        41188 non-null  int64  \n",
      " 14  poutcome        41188 non-null  int32  \n",
      " 15  emp_var_rate    41188 non-null  float64\n",
      " 16  cons_price_idx  41188 non-null  float64\n",
      " 17  cons_conf_idx   41188 non-null  float64\n",
      " 18  euribor3m       41188 non-null  float64\n",
      " 19  nr_employed     41188 non-null  float64\n",
      "dtypes: float64(5), int32(10), int64(5)\n",
      "memory usage: 4.7 MB\n",
      "None\n"
     ]
    }
   ],
   "source": [
    "#Label Encoding for object to numeric conversion\n",
    "from sklearn.preprocessing import LabelEncoder\n",
    "le = LabelEncoder()\n",
    "\n",
    "for feat in objList:\n",
    "    X_df[feat] = le.fit_transform(X_df[feat].astype(str))\n",
    "\n",
    "print (X_df.info())"
   ]
  },
  {
   "cell_type": "code",
   "execution_count": 35,
   "id": "ec9ce2ca",
   "metadata": {},
   "outputs": [
    {
     "data": {
      "text/plain": [
       "((32950, 20), (8238, 20), (32950,), (8238,))"
      ]
     },
     "execution_count": 35,
     "metadata": {},
     "output_type": "execute_result"
    }
   ],
   "source": [
    "# Split feature and label sets to train and data sets.\n",
    "\n",
    "X_train, X_test, y_train, y_test = train_test_split(X_df, y, test_size = 0.2, random_state = 10)\n",
    "X_train.shape, X_test.shape, y_train.shape, y_test.shape"
   ]
  },
  {
   "cell_type": "code",
   "execution_count": 36,
   "id": "8d3bdd4d",
   "metadata": {},
   "outputs": [],
   "source": [
    "scaler = MinMaxScaler(feature_range = (0,1))\n",
    "\n",
    "scaler.fit(X_train)\n",
    "scaler.fit(X_test)\n",
    "X_train = scaler.transform(X_train)\n",
    "X_test = scaler.transform(X_test)"
   ]
  },
  {
   "cell_type": "code",
   "execution_count": 37,
   "id": "0afcb76f",
   "metadata": {},
   "outputs": [
    {
     "name": "stdout",
     "output_type": "stream",
     "text": [
      "Fitting 3 folds for each of 585 candidates, totalling 1755 fits\n"
     ]
    },
    {
     "name": "stderr",
     "output_type": "stream",
     "text": [
      "C:\\ProgramData\\Anaconda3\\lib\\site-packages\\sklearn\\model_selection\\_search.py:922: UserWarning: One or more of the test scores are non-finite: [0.90989373 0.91022758 0.91007582 0.91022758 0.91022756 0.91044002\n",
      " 0.91004547 0.91053107 0.91001512 0.91050072 0.91001513 0.91053106\n",
      " 0.91007583 0.91050072 0.91007582 0.91047036 0.91007582 0.91034896\n",
      " 0.91010618 0.91028826 0.91010618 0.91022756 0.91001513 0.91019721\n",
      " 0.91004548 0.91019721 0.90998478 0.91016686 0.91013653 0.91013652\n",
      " 0.90998478 0.91013652 0.90998478 0.91013652 0.90995443 0.91007582\n",
      " 0.91004548 0.91007582 0.90995443 0.91004547 0.90248859 0.91122915\n",
      " 0.9135053  0.91465853 0.91496201 0.91468886 0.91465851 0.9150834\n",
      " 0.91532619 0.91550828 0.91441571 0.91386942 0.91450677 0.91453709\n",
      " 0.91459781 0.91465853 0.91453712 0.91471922 0.91499235 0.91526551\n",
      " 0.9140212  0.91447641 0.91499231 0.91426395 0.91347483 0.91335349\n",
      " 0.91386941 0.91484058 0.91417293 0.91426395 0.91298927 0.91265539\n",
      " 0.91241262 0.91177531 0.91168427 0.91171459 0.9111076  0.91086482\n",
      " 0.91028817 0.91095585 0.91174493 0.91244297 0.91314104 0.91262512\n",
      " 0.91201813 0.91235198 0.91201813 0.91186637 0.9110773  0.9110166\n",
      " 0.89933248 0.89905934 0.89890759 0.89893794 0.89912004 0.89915039\n",
      " 0.89908969 0.89896829 0.89915039 0.89905934 0.891958   0.8914421\n",
      " 0.89171522 0.89104758 0.89153314 0.89119932 0.89159383 0.89132071\n",
      " 0.89153314 0.89126001 0.86555425 0.62393003 0.62393003 0.62393003\n",
      " 0.62393003 0.62393003 0.62393003 0.62393003 0.62393003 0.62393003\n",
      " 0.78595461 0.88191236 0.88191236 0.88191236 0.88191236 0.88191236\n",
      " 0.88191236 0.88191236 0.88191236 0.88191236 0.84689011 0.84689011\n",
      " 0.84689011 0.84689011 0.84689011 0.84689011 0.84689011 0.84689011\n",
      " 0.84689011 0.84689011 0.80367349 0.80367349 0.80367349 0.80367349\n",
      " 0.80367349 0.80367349 0.80367349 0.80367349 0.80367349 0.80367349\n",
      " 0.6146208  0.6146208  0.6146208  0.6146208  0.6146208  0.6146208\n",
      " 0.6146208  0.6146208  0.6146208  0.6146208  0.70230297 0.70230297\n",
      " 0.70230297 0.70230297 0.70230297 0.70230297 0.70230297 0.70230297\n",
      " 0.70230297 0.70230297 0.61761775 0.62508316 0.62508316 0.62508316\n",
      " 0.62508316 0.62508316 0.62508316 0.62508316 0.62508316 0.62508316\n",
      " 0.63328545 0.63328545 0.63328545 0.63328545 0.63328545 0.63328545\n",
      " 0.63328545 0.63328545 0.63328545 0.63328545 0.49516299 0.49516299\n",
      " 0.49516299 0.49516299 0.49516299 0.49516299 0.49516299 0.49516299\n",
      " 0.49516299 0.49516299 0.35749694 0.35749694 0.35749694 0.35749694\n",
      " 0.35749694 0.35749694 0.35749694 0.35749694 0.35749694 0.35749694\n",
      " 0.6051513  0.6051513  0.6051513  0.6051513  0.6051513  0.6051513\n",
      " 0.6051513  0.6051513  0.6051513  0.6051513  0.35572818 0.35572818\n",
      " 0.35572818 0.35572818 0.35572818 0.35572818 0.35572818 0.35572818\n",
      " 0.35572818 0.35572818 0.35557643 0.35557643 0.35557643 0.35557643\n",
      " 0.35557643 0.35557643 0.35557643 0.35557643 0.35557643 0.35557643\n",
      " 0.59606931 0.59606931 0.59606931 0.59606931 0.59606931 0.59606931\n",
      " 0.59606931 0.59606931 0.59606931 0.59606931 0.83857375 0.83857375\n",
      " 0.83857375 0.83857375 0.83857375 0.83857375 0.83857375 0.83857375\n",
      " 0.83857375 0.83857375 0.60415079 0.60415079 0.60415079 0.60415079\n",
      " 0.60415079 0.60415079 0.60415079 0.60415079 0.60415079 0.60415079\n",
      " 0.13065264 0.13065264 0.13065264 0.13065264 0.13065264 0.13065264\n",
      " 0.13065264 0.13065264 0.13065264 0.13065264 0.13350553 0.13350553\n",
      " 0.13350553 0.13350553 0.13350553 0.13350553 0.13350553 0.13350553\n",
      " 0.13350553 0.13350553 0.12327761 0.12327761 0.12327761 0.12327761\n",
      " 0.12327761 0.12327761 0.12327761 0.12327761 0.12327761 0.12327761\n",
      " 0.12361141 0.12361141 0.12361141 0.12361141 0.12361141 0.12361141\n",
      " 0.12361141 0.12361141 0.12361141 0.12361141 0.12297406 0.12297406\n",
      " 0.12297406 0.12297406 0.12297406 0.12297406 0.12297406 0.12297406\n",
      " 0.12297406 0.12297406 0.12449156 0.12449156 0.12449156 0.12449156\n",
      " 0.12449156 0.12449156 0.12449156 0.12449156 0.12449156 0.12449156\n",
      " 0.11547763 0.11547763 0.11547763 0.11547763 0.11547763 0.11547763\n",
      " 0.11547763 0.11547763 0.11547763 0.11547763 0.11153286 0.11153286\n",
      " 0.11153286 0.11153286 0.11153286 0.11153286 0.11153286 0.11153286\n",
      " 0.11153286 0.11153286 0.11268602 0.11268602 0.11268602 0.11268602\n",
      " 0.11268602 0.11268602 0.11268602 0.11268602 0.11268602 0.11268602\n",
      " 0.12130554 0.12130554 0.12130554 0.12130554 0.12130554 0.12130554\n",
      " 0.12130554 0.12130554 0.12130554 0.12130554 0.12000043 0.12000043\n",
      " 0.12000043 0.12000043 0.12000043 0.12000043 0.12000043 0.12000043\n",
      " 0.12000043 0.12000043 0.12361207 0.12361207 0.12361207 0.12361207\n",
      " 0.12361207 0.12361207 0.12361207 0.12361207 0.12361207 0.12361207\n",
      " 0.11317165 0.11317165 0.11317165 0.11317165 0.11317165 0.11317165\n",
      " 0.11317165 0.11317165 0.11317165 0.11317165 0.10810305 0.10810305\n",
      " 0.10810305 0.10810305 0.10810305 0.10810305 0.10810305 0.10810305\n",
      " 0.10810305 0.10810305 0.1089225  0.1089225  0.1089225  0.1089225\n",
      " 0.1089225  0.1089225  0.1089225  0.1089225  0.1089225  0.1089225\n",
      " 0.1097723  0.1097723  0.1097723  0.1097723  0.1097723  0.1097723\n",
      " 0.1097723  0.1097723  0.1097723  0.1097723  0.1078299  0.1078299\n",
      " 0.1078299  0.1078299  0.1078299  0.1078299  0.1078299  0.1078299\n",
      " 0.1078299  0.1078299  0.11040964 0.11040964 0.11040964 0.11040964\n",
      " 0.11040964 0.11040964 0.11040964 0.11040964 0.11040964 0.11040964\n",
      " 0.11726873 0.11726873 0.11726873 0.11726873 0.11726873 0.11726873\n",
      " 0.11726873 0.11726873 0.11726873 0.11726873 0.12124457 0.12124457\n",
      " 0.12124457 0.12124457 0.12124457 0.12124457 0.12124457 0.12124457\n",
      " 0.12124457 0.12124457 0.11180574 0.11180574 0.11180574 0.11180574\n",
      " 0.11180574 0.11180574 0.11180574 0.11180574 0.11180574 0.11180574\n",
      " 0.12867963 0.12867963 0.12867963 0.12867963 0.12867963 0.12867963\n",
      " 0.12867963 0.12867963 0.12867963 0.12867963 0.12245765 0.12245765\n",
      " 0.12245765 0.12245765 0.12245765 0.12245765 0.12245765 0.12245765\n",
      " 0.12245765 0.12245765 0.12197205 0.12197205 0.12197205 0.12197205\n",
      " 0.12197205 0.12197205 0.12197205 0.12197205 0.12197205 0.12197205\n",
      " 0.12197205 0.12197205 0.12197205 0.12197205 0.12197205 0.12197205\n",
      " 0.12197205 0.12197205 0.12197205 0.12197205 0.1348089  0.1348089\n",
      " 0.1348089  0.1348089  0.1348089  0.1348089  0.1348089  0.1348089\n",
      " 0.1348089  0.1348089  0.13256305 0.13256305 0.13256305 0.13256305\n",
      " 0.13256305 0.13256305 0.13256305 0.13256305 0.13256305 0.13256305\n",
      " 0.84515922 0.84525026 0.8452806  0.84543235 0.90385432 0.90297415\n",
      " 0.90446128 0.90522002 0.90512896 0.90461305 0.90470405 0.90412746\n",
      " 0.90512895 0.9048558  0.90962066 0.91132013 0.91125948 0.91298936\n",
      " 0.91295895 0.91314109 0.91362666 0.91271627 0.91277692 0.91374804\n",
      " 0.90937778 0.91047035 0.91128979 0.91229128 0.9121699  0.91280724\n",
      " 0.91344461 0.91317142 0.91393017 0.91338387 0.9134445  0.90528073\n",
      " 0.89122916        nan        nan        nan        nan 0.89438543\n",
      "        nan        nan        nan]\n",
      "  warnings.warn(\n"
     ]
    }
   ],
   "source": [
    "#Python scikit-learn provides a Pipeline utility to help automate machine learning workflows.\n",
    "#Pipelines work by allowing for a linear sequence of data transforms to be chained together \n",
    "#culminating in a modeling process that can be evaluated.\n",
    "\n",
    "pipe = Pipeline([('classifier' , LogisticRegression())])\n",
    "\n",
    "# Create param grid.\n",
    "\n",
    "param_grid = [\n",
    "    {'classifier' : [LogisticRegression()],\n",
    "     'classifier__penalty' : ['l1', 'l2'],\n",
    "    'classifier__C' : np.linspace(1, 10, 20),\n",
    "    'classifier__solver' : ['liblinear']},\n",
    "    {'classifier' : [GradientBoostingClassifier()],\n",
    "    'classifier__n_estimators' : list(range(10,101,10)),\n",
    "     'classifier__learning_rate' : np.linspace(0.1, 10, 50)},\n",
    "     {'classifier' : [GaussianNB()],'classifier__var_smoothing' :np.linspace(0.0000001, 0.001,4)},\n",
    "     {'classifier' : [RandomForestClassifier()],\n",
    "    'classifier__n_estimators' : list(range(10,101,10)),\n",
    "     'classifier__max_depth' : list(range(5,20,5))},\n",
    "    {'classifier' : [DecisionTreeClassifier()],\n",
    "     'classifier__max_depth' : list(range(5,20,5))},\n",
    "    {'classifier' : [KNeighborsClassifier()],\n",
    "     'classifier__n_neighbors' : list(range(2,10,1))},\n",
    "    \n",
    "\n",
    "   \n",
    "]\n",
    "\n",
    "# Create grid search object\n",
    "\n",
    "clf = GridSearchCV(pipe, param_grid = param_grid, cv = 3, verbose=True, n_jobs=-1)\n",
    "\n",
    "# Fit on data\n",
    "\n",
    "best_clf = clf.fit(X_train, y_train)\n"
   ]
  },
  {
   "cell_type": "code",
   "execution_count": 38,
   "id": "f239fc57",
   "metadata": {},
   "outputs": [
    {
     "data": {
      "text/plain": [
       "GradientBoostingClassifier()"
      ]
     },
     "execution_count": 38,
     "metadata": {},
     "output_type": "execute_result"
    }
   ],
   "source": [
    "best_clf.best_estimator_.get_params()['classifier']"
   ]
  },
  {
   "cell_type": "code",
   "execution_count": 39,
   "id": "677bd4a6",
   "metadata": {},
   "outputs": [],
   "source": [
    "grid_predictions = best_clf.predict(X_test) "
   ]
  },
  {
   "cell_type": "code",
   "execution_count": 40,
   "id": "9e72f0f9",
   "metadata": {},
   "outputs": [
    {
     "name": "stdout",
     "output_type": "stream",
     "text": [
      "Model accuracy is 0.9197620781743141\n"
     ]
    }
   ],
   "source": [
    "print('Model accuracy is',best_clf.score(X_test, y_test))"
   ]
  },
  {
   "cell_type": "code",
   "execution_count": 41,
   "id": "4112a8e9",
   "metadata": {},
   "outputs": [],
   "source": [
    "tableclf= pd.DataFrame(best_clf.cv_results_)\n",
    "tableclf.to_excel(\"tableclf.xlsx\")"
   ]
  },
  {
   "cell_type": "code",
   "execution_count": null,
   "id": "888ec647",
   "metadata": {},
   "outputs": [],
   "source": []
  }
 ],
 "metadata": {
  "kernelspec": {
   "display_name": "Python 3 (ipykernel)",
   "language": "python",
   "name": "python3"
  },
  "language_info": {
   "codemirror_mode": {
    "name": "ipython",
    "version": 3
   },
   "file_extension": ".py",
   "mimetype": "text/x-python",
   "name": "python",
   "nbconvert_exporter": "python",
   "pygments_lexer": "ipython3",
   "version": "3.9.16"
  }
 },
 "nbformat": 4,
 "nbformat_minor": 5
}
